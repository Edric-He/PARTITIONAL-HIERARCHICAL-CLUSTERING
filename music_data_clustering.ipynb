{
 "cells": [
  {
   "cell_type": "code",
   "execution_count": 1,
   "outputs": [
    {
     "ename": "ModuleNotFoundError",
     "evalue": "No module named 'matplotlib'",
     "output_type": "error",
     "traceback": [
      "\u001B[0;31m---------------------------------------------------------------------------\u001B[0m",
      "\u001B[0;31mModuleNotFoundError\u001B[0m                       Traceback (most recent call last)",
      "Cell \u001B[0;32mIn[1], line 3\u001B[0m\n\u001B[1;32m      1\u001B[0m \u001B[38;5;28;01mimport\u001B[39;00m \u001B[38;5;21;01mnumpy\u001B[39;00m \u001B[38;5;28;01mas\u001B[39;00m \u001B[38;5;21;01mnp\u001B[39;00m\n\u001B[1;32m      2\u001B[0m \u001B[38;5;28;01mimport\u001B[39;00m \u001B[38;5;21;01mpandas\u001B[39;00m \u001B[38;5;28;01mas\u001B[39;00m \u001B[38;5;21;01mpd\u001B[39;00m\n\u001B[0;32m----> 3\u001B[0m \u001B[38;5;28;01mimport\u001B[39;00m \u001B[38;5;21;01mmatplotlib\u001B[39;00m\u001B[38;5;21;01m.\u001B[39;00m\u001B[38;5;21;01mpyplot\u001B[39;00m \u001B[38;5;28;01mas\u001B[39;00m \u001B[38;5;21;01mplt\u001B[39;00m\n\u001B[1;32m      4\u001B[0m \u001B[38;5;28;01mfrom\u001B[39;00m \u001B[38;5;21;01msklearn\u001B[39;00m\u001B[38;5;21;01m.\u001B[39;00m\u001B[38;5;21;01mneighbors\u001B[39;00m \u001B[38;5;28;01mimport\u001B[39;00m LocalOutlierFactor\n\u001B[1;32m      5\u001B[0m \u001B[38;5;28;01mfrom\u001B[39;00m \u001B[38;5;21;01msklearn\u001B[39;00m\u001B[38;5;21;01m.\u001B[39;00m\u001B[38;5;21;01mdecomposition\u001B[39;00m \u001B[38;5;28;01mimport\u001B[39;00m PCA\n",
      "\u001B[0;31mModuleNotFoundError\u001B[0m: No module named 'matplotlib'"
     ]
    }
   ],
   "source": [
    "import numpy as np\n",
    "import pandas as pd\n",
    "import matplotlib.pyplot as plt\n",
    "from sklearn.neighbors import LocalOutlierFactor\n",
    "from sklearn.decomposition import PCA\n",
    "from sklearn.cluster import KMeans,AgglomerativeClustering"
   ],
   "metadata": {
    "collapsed": false,
    "ExecuteTime": {
     "end_time": "2024-04-27T23:57:35.770493Z",
     "start_time": "2024-04-27T23:57:35.378765Z"
    }
   },
   "id": "d55204461a42f1a"
  },
  {
   "cell_type": "code",
   "execution_count": 2,
   "outputs": [],
   "source": [
    "def loadData(filename):\n",
    "    df=pd.read_csv(filename,index_col=0)\n",
    "    return df.values[:,:-3]\n",
    "\n",
    "def IQR(data):\n",
    "    q75=np.quantile(data,0.75,axis=0)\n",
    "    q25=np.quantile(data,0.25,axis=0)\n",
    "    iqr=q75-q25\n",
    "    up_limit=q75+3*iqr\n",
    "    down_limit=q25-3*iqr\n",
    "    result=[]\n",
    "    for i in range(len(data)):\n",
    "        if (data[i]<=up_limit).all() and (data[i]>=down_limit).all():\n",
    "            result.append(data[i])\n",
    "    return np.array(result)\n",
    "\n",
    "def LOF(data):\n",
    "    predict = pd.DataFrame(data)\n",
    "    clf = LocalOutlierFactor(n_neighbors=6, algorithm='auto', contamination=0.1, n_jobs=-1)\n",
    "    clf.fit(data)\n",
    "    predict['k distances'] = clf.kneighbors(predict)[0].max(axis=1)\n",
    "    predict['local outlier factor'] = -clf.negative_outlier_factor_\n",
    "    outliers = predict[predict['local outlier factor'] > 1].sort_values(by='local outlier factor')\n",
    "    inliers = predict[predict['local outlier factor'] <= 1].sort_values(by='local outlier factor')\n",
    "    inliers = inliers.astype(float)\n",
    "    return inliers.iloc[:, :-2].values\n",
    "\n",
    "def MinMaxscaler(data):\n",
    "    return (data-np.min(data,axis=0))/(np.max(data,axis=0)-np.min(data,axis=0))\n",
    "\n",
    "def Standardscaler(data):\n",
    "    return (data-np.mean(data,axis=0))/np.std(data,axis=0)\n",
    "\n",
    "def Normalize(data):\n",
    "    norm = np.linalg.norm(data, axis=0)\n",
    "    return data / norm\n",
    "\n",
    "def PCA_(data):\n",
    "    pca = PCA(n_components=2)\n",
    "    return pca.fit_transform(data)\n",
    "\n",
    "def visible_init(data):\n",
    "    plt.scatter(data[:,0],data[:,1])\n",
    "    plt.show()\n",
    "\n",
    "def kmeans(data,k):\n",
    "    clf = KMeans(n_clusters=k,init='random')\n",
    "    labels = clf.fit_predict(data)\n",
    "    plt.scatter(data[:,0],data[:,1],c=labels)\n",
    "\n",
    "def kmeans_pp(data,k):\n",
    "    clf = KMeans(n_clusters=k,init='k-means++')\n",
    "    labels = clf.fit_predict(data)\n",
    "    plt.scatter(data[:,0],data[:,1],c=labels)\n",
    "\n",
    "def h_clustering_group_avg(data,k):\n",
    "    clf = AgglomerativeClustering(n_clusters=k,linkage='average')\n",
    "    labels = clf.fit_predict(data)\n",
    "    plt.scatter(data[:,0],data[:,1],c=labels)\n",
    "\n",
    "def h_clustering_single_link(data,k):\n",
    "    clf=AgglomerativeClustering(n_clusters=k,linkage='ward')\n",
    "    labels=clf.fit_predict(data)\n",
    "    plt.scatter(data[:,0],data[:,1],c=labels)\n",
    "\n",
    "def h_clustering_complete_link(data,k):\n",
    "    clf = AgglomerativeClustering(n_clusters=k,linkage='complete')\n",
    "    labels = clf.fit_predict(data)\n",
    "    plt.scatter(data[:,0],data[:,1],c=labels)"
   ],
   "metadata": {
    "collapsed": false,
    "ExecuteTime": {
     "end_time": "2024-04-27T23:57:36.875982Z",
     "start_time": "2024-04-27T23:57:36.857275Z"
    }
   },
   "id": "7a577ea451f0f976"
  },
  {
   "cell_type": "code",
   "execution_count": 16,
   "outputs": [
    {
     "ename": "NameError",
     "evalue": "name 'LocalOutlierFactor' is not defined",
     "output_type": "error",
     "traceback": [
      "\u001B[0;31m---------------------------------------------------------------------------\u001B[0m",
      "\u001B[0;31mNameError\u001B[0m                                 Traceback (most recent call last)",
      "Cell \u001B[0;32mIn[16], line 3\u001B[0m\n\u001B[1;32m      1\u001B[0m data \u001B[38;5;241m=\u001B[39m loadData(\u001B[38;5;124m'\u001B[39m\u001B[38;5;124mclustering_data.csv\u001B[39m\u001B[38;5;124m'\u001B[39m)\n\u001B[1;32m      2\u001B[0m IQR_data \u001B[38;5;241m=\u001B[39m IQR(data)\n\u001B[0;32m----> 3\u001B[0m LOF_data \u001B[38;5;241m=\u001B[39m \u001B[43mLOF\u001B[49m\u001B[43m(\u001B[49m\u001B[43mdata\u001B[49m\u001B[43m)\u001B[49m\n\u001B[1;32m      4\u001B[0m min_max_data \u001B[38;5;241m=\u001B[39m MinMaxscaler(LOF_data)\n\u001B[1;32m      5\u001B[0m std_data \u001B[38;5;241m=\u001B[39m Standardscaler(LOF_data)\n",
      "Cell \u001B[0;32mIn[15], line 19\u001B[0m, in \u001B[0;36mLOF\u001B[0;34m(data)\u001B[0m\n\u001B[1;32m     17\u001B[0m \u001B[38;5;28;01mdef\u001B[39;00m \u001B[38;5;21mLOF\u001B[39m(data):\n\u001B[1;32m     18\u001B[0m     predict \u001B[38;5;241m=\u001B[39m pd\u001B[38;5;241m.\u001B[39mDataFrame(data)\n\u001B[0;32m---> 19\u001B[0m     clf \u001B[38;5;241m=\u001B[39m \u001B[43mLocalOutlierFactor\u001B[49m(n_neighbors\u001B[38;5;241m=\u001B[39m\u001B[38;5;241m6\u001B[39m, algorithm\u001B[38;5;241m=\u001B[39m\u001B[38;5;124m'\u001B[39m\u001B[38;5;124mauto\u001B[39m\u001B[38;5;124m'\u001B[39m, contamination\u001B[38;5;241m=\u001B[39m\u001B[38;5;241m0.1\u001B[39m, n_jobs\u001B[38;5;241m=\u001B[39m\u001B[38;5;241m-\u001B[39m\u001B[38;5;241m1\u001B[39m)\n\u001B[1;32m     20\u001B[0m     clf\u001B[38;5;241m.\u001B[39mfit(data)\n\u001B[1;32m     21\u001B[0m     predict[\u001B[38;5;124m'\u001B[39m\u001B[38;5;124mk distances\u001B[39m\u001B[38;5;124m'\u001B[39m] \u001B[38;5;241m=\u001B[39m clf\u001B[38;5;241m.\u001B[39mkneighbors(predict)[\u001B[38;5;241m0\u001B[39m]\u001B[38;5;241m.\u001B[39mmax(axis\u001B[38;5;241m=\u001B[39m\u001B[38;5;241m1\u001B[39m)\n",
      "\u001B[0;31mNameError\u001B[0m: name 'LocalOutlierFactor' is not defined"
     ]
    }
   ],
   "source": [
    "data = loadData('clustering_data.csv')\n",
    "IQR_data = IQR(data)\n",
    "LOF_data = LOF(data)\n",
    "min_max_data = MinMaxscaler(LOF_data)\n",
    "std_data = Standardscaler(LOF_data)\n",
    "normalize_data = Normalize(LOF_data)\n",
    "pca_data = PCA_(normalize_data)\n",
    "visible_init(pca_data)"
   ],
   "metadata": {
    "collapsed": false,
    "ExecuteTime": {
     "end_time": "2024-04-27T23:26:10.029855Z",
     "start_time": "2024-04-27T23:26:09.995682Z"
    }
   },
   "id": "2baf18fcc78a3ab"
  },
  {
   "cell_type": "code",
   "execution_count": 17,
   "outputs": [
    {
     "ename": "NameError",
     "evalue": "name 'pca_data' is not defined",
     "output_type": "error",
     "traceback": [
      "\u001B[0;31m---------------------------------------------------------------------------\u001B[0m",
      "\u001B[0;31mNameError\u001B[0m                                 Traceback (most recent call last)",
      "Cell \u001B[0;32mIn[17], line 1\u001B[0m\n\u001B[0;32m----> 1\u001B[0m kmeans(\u001B[43mpca_data\u001B[49m,\u001B[38;5;241m3\u001B[39m)\n",
      "\u001B[0;31mNameError\u001B[0m: name 'pca_data' is not defined"
     ]
    }
   ],
   "source": [
    "kmeans(pca_data,3)"
   ],
   "metadata": {
    "collapsed": false,
    "ExecuteTime": {
     "end_time": "2024-04-27T23:26:11.144810Z",
     "start_time": "2024-04-27T23:26:11.126020Z"
    }
   },
   "id": "37b862623912722d"
  },
  {
   "cell_type": "code",
   "execution_count": 18,
   "outputs": [
    {
     "ename": "NameError",
     "evalue": "name 'pca_data' is not defined",
     "output_type": "error",
     "traceback": [
      "\u001B[0;31m---------------------------------------------------------------------------\u001B[0m",
      "\u001B[0;31mNameError\u001B[0m                                 Traceback (most recent call last)",
      "Cell \u001B[0;32mIn[18], line 1\u001B[0m\n\u001B[0;32m----> 1\u001B[0m kmeans_pp(\u001B[43mpca_data\u001B[49m,\u001B[38;5;241m3\u001B[39m)\n",
      "\u001B[0;31mNameError\u001B[0m: name 'pca_data' is not defined"
     ]
    }
   ],
   "source": [
    "kmeans_pp(pca_data,3)"
   ],
   "metadata": {
    "collapsed": false,
    "ExecuteTime": {
     "end_time": "2024-04-27T23:26:11.857392Z",
     "start_time": "2024-04-27T23:26:11.731753Z"
    }
   },
   "id": "a0350583c7fe0a83"
  },
  {
   "cell_type": "code",
   "execution_count": 19,
   "outputs": [
    {
     "ename": "NameError",
     "evalue": "name 'pca_data' is not defined",
     "output_type": "error",
     "traceback": [
      "\u001B[0;31m---------------------------------------------------------------------------\u001B[0m",
      "\u001B[0;31mNameError\u001B[0m                                 Traceback (most recent call last)",
      "Cell \u001B[0;32mIn[19], line 1\u001B[0m\n\u001B[0;32m----> 1\u001B[0m h_clustering_group_avg(\u001B[43mpca_data\u001B[49m,\u001B[38;5;241m3\u001B[39m)\n",
      "\u001B[0;31mNameError\u001B[0m: name 'pca_data' is not defined"
     ]
    }
   ],
   "source": [
    "h_clustering_group_avg(pca_data,3)"
   ],
   "metadata": {
    "collapsed": false,
    "ExecuteTime": {
     "end_time": "2024-04-27T23:26:12.409288Z",
     "start_time": "2024-04-27T23:26:12.385259Z"
    }
   },
   "id": "ba7d17f930dc12bd"
  },
  {
   "cell_type": "code",
   "execution_count": 20,
   "outputs": [
    {
     "ename": "NameError",
     "evalue": "name 'pca_data' is not defined",
     "output_type": "error",
     "traceback": [
      "\u001B[0;31m---------------------------------------------------------------------------\u001B[0m",
      "\u001B[0;31mNameError\u001B[0m                                 Traceback (most recent call last)",
      "Cell \u001B[0;32mIn[20], line 1\u001B[0m\n\u001B[0;32m----> 1\u001B[0m h_clustering_single_link(\u001B[43mpca_data\u001B[49m,\u001B[38;5;241m3\u001B[39m)\n",
      "\u001B[0;31mNameError\u001B[0m: name 'pca_data' is not defined"
     ]
    }
   ],
   "source": [
    "h_clustering_single_link(pca_data,3)"
   ],
   "metadata": {
    "collapsed": false,
    "ExecuteTime": {
     "end_time": "2024-04-27T23:26:12.674706Z",
     "start_time": "2024-04-27T23:26:12.649157Z"
    }
   },
   "id": "d13a4cd0fdf8ac69"
  },
  {
   "cell_type": "code",
   "execution_count": 21,
   "outputs": [
    {
     "ename": "NameError",
     "evalue": "name 'pca_data' is not defined",
     "output_type": "error",
     "traceback": [
      "\u001B[0;31m---------------------------------------------------------------------------\u001B[0m",
      "\u001B[0;31mNameError\u001B[0m                                 Traceback (most recent call last)",
      "Cell \u001B[0;32mIn[21], line 1\u001B[0m\n\u001B[0;32m----> 1\u001B[0m h_clustering_complete_link(\u001B[43mpca_data\u001B[49m,\u001B[38;5;241m3\u001B[39m)\n",
      "\u001B[0;31mNameError\u001B[0m: name 'pca_data' is not defined"
     ]
    }
   ],
   "source": [
    "h_clustering_complete_link(pca_data,3)"
   ],
   "metadata": {
    "collapsed": false,
    "ExecuteTime": {
     "end_time": "2024-04-27T23:26:13.687029Z",
     "start_time": "2024-04-27T23:26:13.680972Z"
    }
   },
   "id": "2c89c20b704eb148"
  },
  {
   "cell_type": "code",
   "execution_count": null,
   "outputs": [],
   "source": [],
   "metadata": {
    "collapsed": false
   },
   "id": "9d9578350dbe0a50"
  }
 ],
 "metadata": {
  "kernelspec": {
   "display_name": "Python 3",
   "language": "python",
   "name": "python3"
  },
  "language_info": {
   "codemirror_mode": {
    "name": "ipython",
    "version": 2
   },
   "file_extension": ".py",
   "mimetype": "text/x-python",
   "name": "python",
   "nbconvert_exporter": "python",
   "pygments_lexer": "ipython2",
   "version": "2.7.6"
  }
 },
 "nbformat": 4,
 "nbformat_minor": 5
}
